{
  "nbformat": 4,
  "nbformat_minor": 0,
  "metadata": {
    "colab": {
      "name": "PyAssignment1.ipynb",
      "provenance": [],
      "collapsed_sections": []
    },
    "kernelspec": {
      "name": "python3",
      "display_name": "Python 3"
    }
  },
  "cells": [
    {
      "cell_type": "markdown",
      "metadata": {
        "id": "gVOoeAbRLQHi",
        "colab_type": "text"
      },
      "source": [
        "# Task 1\n",
        "\n",
        "'''\n",
        "2. Write a program which will find all such numbers which are divisible by 7 but are not a multiple of 5,\n",
        "between 2000 and 3200 (both included). \n",
        "The numbers obtained should be printed in a comma-separated sequence on a single line.\n",
        "'''\n"
      ]
    },
    {
      "cell_type": "code",
      "metadata": {
        "id": "Pb7qXXYZLi6D",
        "colab_type": "code",
        "colab": {
          "base_uri": "https://localhost:8080/",
          "height": 54
        },
        "outputId": "5cf915dd-532e-47e2-9945-a4c3b19b0fbb"
      },
      "source": [
        "li=[]\n",
        "for x in range(2000, 3200):\n",
        "    if (x%7==0) and (x%5==0):\n",
        "        li.append(str(x))\n",
        "print (','.join(li))"
      ],
      "execution_count": null,
      "outputs": [
        {
          "output_type": "stream",
          "text": [
            "2030,2065,2100,2135,2170,2205,2240,2275,2310,2345,2380,2415,2450,2485,2520,2555,2590,2625,2660,2695,2730,2765,2800,2835,2870,2905,2940,2975,3010,3045,3080,3115,3150,3185\n"
          ],
          "name": "stdout"
        }
      ]
    },
    {
      "cell_type": "markdown",
      "metadata": {
        "id": "4zGeDrerML0u",
        "colab_type": "text"
      },
      "source": [
        "'''\n",
        "3. Write a Python program to accept the user's first and\n",
        "last name and then getting them printed in the the reverse order with\n",
        "a space between first name and last name.\n",
        "'''"
      ]
    },
    {
      "cell_type": "code",
      "metadata": {
        "id": "nfh4nVw9MPdh",
        "colab_type": "code",
        "colab": {
          "base_uri": "https://localhost:8080/",
          "height": 88
        },
        "outputId": "5c8fdeaa-bec8-4805-b34e-3a03b09fb16c"
      },
      "source": [
        "fname = input(\"Input your First Name : \")\n",
        "lname = input(\"Input your Last Name : \")\n",
        "print (\"Hello  \" + lname + \" \" + fname)"
      ],
      "execution_count": null,
      "outputs": [
        {
          "output_type": "stream",
          "text": [
            "Input your First Name : Vaibhav\n",
            "Input your Last Name : Srivastav\n",
            "Hello  Srivastav Vaibhav\n"
          ],
          "name": "stdout"
        }
      ]
    },
    {
      "cell_type": "markdown",
      "metadata": {
        "id": "k2Rrj4uxMkt5",
        "colab_type": "text"
      },
      "source": [
        "\n",
        "4. Write a Python program to find the volume of a sphere with diameter 12 cm.\n",
        "\n",
        "Formula: V=4/3 * π * r3 \n"
      ]
    },
    {
      "cell_type": "code",
      "metadata": {
        "id": "Ed0YEmoUMo8Z",
        "colab_type": "code",
        "colab": {
          "base_uri": "https://localhost:8080/",
          "height": 34
        },
        "outputId": "91a87be3-9b6a-4a2f-af6a-563591cc6062"
      },
      "source": [
        "Diam_cm = 12\n",
        "radius_cm = 6 # radius = Diameter/2\n",
        "pie = 3.14\n",
        "\n",
        "# formula \n",
        "\n",
        "Volumn = (4/3 * pie * (radius_cm ** 3))\n",
        "\n",
        "print(Volumn)"
      ],
      "execution_count": null,
      "outputs": [
        {
          "output_type": "stream",
          "text": [
            "904.3199999999999\n"
          ],
          "name": "stdout"
        }
      ]
    },
    {
      "cell_type": "markdown",
      "metadata": {
        "id": "pPLishZrP1Qq",
        "colab_type": "text"
      },
      "source": [
        "# Task 2\n",
        "'''\n",
        "1. Write a program which accepts a sequence of comma-separated numbers from console and\n",
        "generate a list.\n",
        "\n",
        "'''"
      ]
    },
    {
      "cell_type": "code",
      "metadata": {
        "id": "eqITMZw8P72Y",
        "colab_type": "code",
        "colab": {
          "base_uri": "https://localhost:8080/",
          "height": 51
        },
        "outputId": "85546fde-06d0-4d34-b742-03ce51328d28"
      },
      "source": [
        "number=input()\n",
        "list1_num=number.split(\",\")\n",
        "list1_num"
      ],
      "execution_count": null,
      "outputs": [
        {
          "output_type": "stream",
          "text": [
            "1,KL,2\n"
          ],
          "name": "stdout"
        },
        {
          "output_type": "execute_result",
          "data": {
            "text/plain": [
              "['1', 'KL', '2']"
            ]
          },
          "metadata": {
            "tags": []
          },
          "execution_count": 3
        }
      ]
    },
    {
      "cell_type": "markdown",
      "metadata": {
        "id": "G1TpocgEQW6y",
        "colab_type": "text"
      },
      "source": [
        "'''\n",
        "2. Create the below pattern using nested for loop in Python.\n",
        "\n",
        "'''"
      ]
    },
    {
      "cell_type": "code",
      "metadata": {
        "id": "VkcFtTrJQcGF",
        "colab_type": "code",
        "colab": {
          "base_uri": "https://localhost:8080/",
          "height": 323
        },
        "outputId": "2ca57d14-83b1-4730-9075-e8bc6cc8628d"
      },
      "source": [
        "for i in range(0,9):\n",
        "    if(i <= 4):\n",
        "        for j in range(0,i+1):\n",
        "            print(\"*\", end=\" \")\n",
        "        print(\"\\n\")\n",
        "    else:\n",
        "        for j in range(i,9):\n",
        "            print(\"*\", end=\" \")\n",
        "        print(\"\\n\")"
      ],
      "execution_count": null,
      "outputs": [
        {
          "output_type": "stream",
          "text": [
            "* \n",
            "\n",
            "* * \n",
            "\n",
            "* * * \n",
            "\n",
            "* * * * \n",
            "\n",
            "* * * * * \n",
            "\n",
            "* * * * \n",
            "\n",
            "* * * \n",
            "\n",
            "* * \n",
            "\n",
            "* \n",
            "\n"
          ],
          "name": "stdout"
        }
      ]
    },
    {
      "cell_type": "markdown",
      "metadata": {
        "id": "OiwhSV0_RMEX",
        "colab_type": "text"
      },
      "source": [
        "'''\n",
        "3. Write a Python program to reverse a word after accepting the input from the user.\n",
        "'''"
      ]
    },
    {
      "cell_type": "code",
      "metadata": {
        "id": "19roAo32RSJv",
        "colab_type": "code",
        "colab": {
          "base_uri": "https://localhost:8080/",
          "height": 51
        },
        "outputId": "80a15910-5946-4e58-8f4a-56e2f029fd5b"
      },
      "source": [
        "a=input(\"Enter text: \")\n",
        "print(a[::-1])"
      ],
      "execution_count": null,
      "outputs": [
        {
          "output_type": "stream",
          "text": [
            "Enter text: VSTEch\n",
            "hcETSV\n"
          ],
          "name": "stdout"
        }
      ]
    },
    {
      "cell_type": "markdown",
      "metadata": {
        "id": "Et7NHGJGRgos",
        "colab_type": "text"
      },
      "source": [
        "'''\n",
        "4. Write a Python Program to print the given string in the format specified in the sample output.\n",
        "WE, THE PEOPLE OF INDIA, having solemnly resolved to constitute India into a\n",
        "SOVEREIGN, SOCIALIST, SECULAR, DEMOCRATIC REPUBLIC and to secure to all\n",
        "its citizens\n",
        "Sample Output:\n",
        "WE, THE PEOPLE OF INDIA,\n",
        "      having solemnly resolved to constitute India into a SOVEREIGN, !\n",
        "         SOCIALIST, SECULAR, DEMOCRATIC REPUBLIC\n",
        "          and to secure to all its citizens\n",
        "\n",
        "'''"
      ]
    },
    {
      "cell_type": "code",
      "metadata": {
        "id": "EyV3YnDDRh16",
        "colab_type": "code",
        "colab": {
          "base_uri": "https://localhost:8080/",
          "height": 85
        },
        "outputId": "45610cd0-15d2-454f-dbdb-1286aeb71f99"
      },
      "source": [
        "print(\"WE, THE PEOPLE OF INDIA,\\n\\thaving solemnly resolved to constitute India into a SOVEREIGN,! \\n\\t\\tSOCIALIST, SECULAR, DEMOCRATIC REPUBLIC \\n\\t\\t and to secure to all its citizens\")"
      ],
      "execution_count": null,
      "outputs": [
        {
          "output_type": "stream",
          "text": [
            "WE, THE PEOPLE OF INDIA,\n",
            "\thaving solemnly resolved to constitute India into a SOVEREIGN,! \n",
            "\t\tSOCIALIST, SECULAR, DEMOCRATIC REPUBLIC \n",
            "\t\t and to secure to all its citizens\n"
          ],
          "name": "stdout"
        }
      ]
    }
  ]
}
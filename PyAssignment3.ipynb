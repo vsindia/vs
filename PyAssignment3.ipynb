{
  "nbformat": 4,
  "nbformat_minor": 0,
  "metadata": {
    "colab": {
      "name": "PyAssignment3.ipynb",
      "provenance": []
    },
    "kernelspec": {
      "name": "python3",
      "display_name": "Python 3"
    }
  },
  "cells": [
    {
      "cell_type": "code",
      "metadata": {
        "id": "S-vikoKQYpKQ",
        "colab_type": "code",
        "colab": {}
      },
      "source": [
        ""
      ],
      "execution_count": null,
      "outputs": []
    },
    {
      "cell_type": "markdown",
      "metadata": {
        "id": "ovWu8k_EYqJM",
        "colab_type": "text"
      },
      "source": [
        "# Task 1\n",
        "\n",
        "'''\n",
        "1. Write a function to compute 5/0 and use try/except to catch the exceptions.\n",
        "'''"
      ]
    },
    {
      "cell_type": "code",
      "metadata": {
        "id": "ApHTw6fyYwuf",
        "colab_type": "code",
        "colab": {
          "base_uri": "https://localhost:8080/",
          "height": 34
        },
        "outputId": "c7a60cfc-8d7a-47ca-e4ee-8c39fc42bc83"
      },
      "source": [
        "def division():\n",
        "    return 5/0\n",
        "\n",
        "try:\n",
        "    division()\n",
        "except ZeroDivisionError as ze:\n",
        "    print(\"Why do you want to divide a number by ZERO!!\")\n",
        "except:\n",
        "    print(\"other exception\")"
      ],
      "execution_count": 1,
      "outputs": [
        {
          "output_type": "stream",
          "text": [
            "Why do you want to divide a number by ZERO!!\n"
          ],
          "name": "stdout"
        }
      ]
    },
    {
      "cell_type": "markdown",
      "metadata": {
        "id": "CJ_QYPmwZCWq",
        "colab_type": "text"
      },
      "source": [
        "'''\n",
        "2. Implement a Python program to generate all sentences where subject is in\n",
        "[\"Americans\", \"Indians\"] and verb is in [\"Play\", \"watch\"] and the object is in\n",
        "[\"Baseball\",\"cricket\"].    \n",
        "    \n",
        "Hint: Subject,Verb and Object should be declared in the program as shown below.\n",
        "subjects= [\"Americans \",\"Indians\"]\n",
        "verbs=  [\"play\",\"watch\"]\n",
        "objects=  [\"Baseball\",\"Cricket\"]\n",
        "\n",
        "\n",
        "Output should come as below:\n",
        "Americans play Baseball.\n",
        "Americans play Cricket.\n",
        "Americans watch Baseball.\n",
        "Americans watch Cricket.\n",
        "Indians play Baseball.\n",
        "Indians play Cricket.\n",
        "Indians watch Baseball.\n",
        "Indians watch Cricket.\n",
        "\n",
        "'''\n"
      ]
    },
    {
      "cell_type": "code",
      "metadata": {
        "id": "zAh6m6SkZGIW",
        "colab_type": "code",
        "colab": {
          "base_uri": "https://localhost:8080/",
          "height": 153
        },
        "outputId": "570cb914-78cf-4ab2-eb22-b99c0057e7cb"
      },
      "source": [
        "subject = [\"Americans\", \"Indians\"]\n",
        "verb = [\"Play\", \"watch\"]\n",
        "obj = [\"Baseball\",\"cricket\"]\n",
        "\n",
        "# Use list comprehension instead of looping over each of the predicates\n",
        "sentence_list = [(sub+\" \"+ vb + \" \" + ob) for sub in subject for vb in verb for ob in obj]\n",
        "for sentence in sentence_list:\n",
        "    print(sentence)"
      ],
      "execution_count": 2,
      "outputs": [
        {
          "output_type": "stream",
          "text": [
            "Americans Play Baseball\n",
            "Americans Play cricket\n",
            "Americans watch Baseball\n",
            "Americans watch cricket\n",
            "Indians Play Baseball\n",
            "Indians Play cricket\n",
            "Indians watch Baseball\n",
            "Indians watch cricket\n"
          ],
          "name": "stdout"
        }
      ]
    },
    {
      "cell_type": "markdown",
      "metadata": {
        "id": "lsy61EZoZgaR",
        "colab_type": "text"
      },
      "source": [
        "# Task 2\n",
        "\n",
        "'''\n",
        "Write a function so that the columns of the output matrix are powers of the input vector.\n",
        "The order of the powers is determined by the increasing boolean argument. Specifically, when\n",
        "increasing is False, the i-th output column is the input vector raised element-wise to the power\n",
        "of N - i - 1.\n",
        "\n",
        "HINT: Such a matrix with a geometric progression in each row is named for AlexandreTheophile Vandermonde.\n",
        "\n",
        "'''"
      ]
    },
    {
      "cell_type": "code",
      "metadata": {
        "id": "xYie7Ee4ZkR0",
        "colab_type": "code",
        "colab": {
          "base_uri": "https://localhost:8080/",
          "height": 102
        },
        "outputId": "9ed9e69b-e68b-470b-a5e0-42dcb98eb1c2"
      },
      "source": [
        "\n",
        "#column of the output matrix are power of the input vector\n",
        "import numpy as np\n",
        "x = np.array([1,2,3,4,5])\n",
        "N = 4\n",
        "np.vander(x,N)"
      ],
      "execution_count": 3,
      "outputs": [
        {
          "output_type": "execute_result",
          "data": {
            "text/plain": [
              "array([[  1,   1,   1,   1],\n",
              "       [  8,   4,   2,   1],\n",
              "       [ 27,   9,   3,   1],\n",
              "       [ 64,  16,   4,   1],\n",
              "       [125,  25,   5,   1]])"
            ]
          },
          "metadata": {
            "tags": []
          },
          "execution_count": 3
        }
      ]
    }
  ]
}